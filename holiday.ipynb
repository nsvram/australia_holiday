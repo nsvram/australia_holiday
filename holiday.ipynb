import pandas as pd
url = 'https://data.gov.au/dataset/b1bc6077-dadd-4f61-9f8c-002ab2cdff10/resource/253d63c0-af1f-4f4c-b8d5-eb9d9b1d46ab/download/australianpublicholidays-201718.csv'
def state_holiday(str_val):
    aus_state = ['ACT', 'NSW', 'NT', 'QLD', 'SA', 'TAS', 'VIC', 'WA']
    my_holiday_lst = str_val.strip().split("|")
    if "NAT" in my_holiday_lst:
        my_holiday_lst = aus_state
    my_holiday_lst.sort()    
    da = [1 if i in my_holiday_lst else 0 for i in aus_state]    
    return ",".join(str(ele) for ele in da)
#state_holiday("ACT|NSW|NT|QLD|SA|VIC")

data = pd.read_csv(url)
data[['ACT', 'NSW', 'NT', 'QLD', 'SA', 'TAS', 'VIC', 'WA']] = data["Applicable To"].apply(state_holiday).apply(lambda x: pd.Series(str(x).split(',')))

