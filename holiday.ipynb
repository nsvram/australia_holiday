{
 "cells": [
  {
   "cell_type": "code",
   "execution_count": 1,
   "metadata": {
    "collapsed": true
   },
   "outputs": [],
   "source": [
    "import json\n",
    "from urllib2 import Request, urlopen, URLError\n",
    "from pprint import pprint"
   ]
  },
  {
   "cell_type": "code",
   "execution_count": 2,
   "metadata": {
    "collapsed": true
   },
   "outputs": [],
   "source": [
    "def state_holiday(str_val):\n",
    "    aus_state = ['ACT', 'NSW', 'NT', 'QLD', 'SA', 'TAS', 'VIC', 'WA']\n",
    "    my_holiday_lst = str_val.strip().split(\"|\")\n",
    "    if \"NAT\" in my_holiday_lst:\n",
    "        my_holiday_lst = aus_state\n",
    "    my_holiday_lst.sort()    \n",
    "    da = [1 if i in my_holiday_lst else 0 for i in aus_state]    \n",
    "    return \"|\".join(str(ele) for ele in da)\n",
    "#state_holiday(\"NAT\")"
   ]
  },
  {
   "cell_type": "code",
   "execution_count": 3,
   "metadata": {
    "collapsed": true
   },
   "outputs": [],
   "source": [
    "request = Request('https://data.gov.au/api/3/action/datastore_search?resource_id=a24ecaf2-044a-4e66-989c-eacc81ded62f')\n",
    "response = urlopen(request)\n",
    "str_response = response.read()\n",
    "\n",
    "dic_response = json.loads(str_response)\n",
    "header = ([i['id'] for i in dic_response['result']['fields'] if i['id'] != 'Applicable To'] + ['ACT', 'NSW', 'NT', 'QLD', 'SA', 'TAS', 'VIC', 'WA'])\n",
    "str_header = \"|\".join([head_val.replace(\" \", \"_\") for head_val in header]) + '\\n'\n",
    "#str_header = \"|\".join([head_val.replace(\" \", \"_\") for head_val in header]) + '\\n'"
   ]
  },
  {
   "cell_type": "code",
   "execution_count": 4,
   "metadata": {
    "collapsed": true
   },
   "outputs": [],
   "source": [
    "str_val = ''\n",
    "data_content = dic_response['result']['records']\n",
    "for i in data_content:\n",
    "    str_val = str_val + (str(i['_id']) +  '|' + str(i['Date']) + '|' + i['Holiday Name'] + '|' + i['Information'] + '|' + i['More Information'] +  '|' + state_holiday(i['Applicable To']) + '\\n')\n",
    "with open(\"holiday.csv\", \"wb\") as f:\n",
    "    f.write((str_header + str_val).encode(\"utf-8\"))"
   ]
  },
  {
   "cell_type": "code",
   "execution_count": null,
   "metadata": {
    "collapsed": true
   },
   "outputs": [],
   "source": []
  }
 ],
 "metadata": {
  "kernelspec": {
   "display_name": "Python 2",
   "language": "python",
   "name": "python2"
  },
  "language_info": {
   "codemirror_mode": {
    "name": "ipython",
    "version": 2
   },
   "file_extension": ".py",
   "mimetype": "text/x-python",
   "name": "python",
   "nbconvert_exporter": "python",
   "pygments_lexer": "ipython2",
   "version": "2.7.14"
  }
 },
 "nbformat": 4,
 "nbformat_minor": 2
}
